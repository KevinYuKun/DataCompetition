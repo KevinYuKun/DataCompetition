{
 "cells": [
  {
   "cell_type": "code",
   "execution_count": 1,
   "metadata": {},
   "outputs": [
    {
     "name": "stdout",
     "output_type": "stream",
     "text": [
      "INFO: Pandarallel will run on 8 workers.\n",
      "INFO: Pandarallel will use standard multiprocessing data transfer (pipe) to transfer data between the main process and workers.\n"
     ]
    }
   ],
   "source": [
    "import numpy as np\n",
    "import pandas as pd\n",
    "import warnings\n",
    "warnings.filterwarnings('ignore')\n",
    "import gc\n",
    "import time\n",
    "\n",
    "import matplotlib.pyplot as plt\n",
    "plt.rcParams['font.sans-serif']=['SimHei'] #用来正常显示中文标签\n",
    "plt.rcParams['axes.unicode_minus']=False #用来正常显示负号\n",
    "import seaborn as sns\n",
    "\n",
    "from pandarallel import pandarallel\n",
    "pandarallel.initialize()"
   ]
  },
  {
   "cell_type": "code",
   "execution_count": 2,
   "metadata": {},
   "outputs": [],
   "source": [
    "train_app = pd.read_pickle('after_reducion/train_app.pkl')\n",
    "test_app = pd.read_pickle('after_reducion/test_app.pkl')\n",
    "\n",
    "train_user = pd.read_pickle('after_reducion/train_user.pkl')\n",
    "test_user = pd.read_pickle('after_reducion/test_user.pkl')"
   ]
  },
  {
   "cell_type": "code",
   "execution_count": 3,
   "metadata": {},
   "outputs": [],
   "source": [
    "train_label = train_user[['phone_no_m','label']]"
   ]
  },
  {
   "cell_type": "code",
   "execution_count": 4,
   "metadata": {},
   "outputs": [
    {
     "data": {
      "text/plain": [
       "'\\n    观察诈骗电话和app使用的关系\\n    因为缺失的大多数都是app名字和月份，所以不进行处理。(用unknown处理，或者用LGB直接对缺失值做处理)\\n    \\n    特征\\n        1. app使用量，平均值：\\n                        正常电话 >> 诈骗电话\\n                        (有些诈骗电话使用app数量很大，结合时间特征观察，看是不是后期才转化为诈骗电话)\\n        2. app为null，正常的比诈骗电话占比要多，难以作为特征\\n        \\n        3. 时间和busi_name,总体上差不多，诈骗电话相对用量较少，正常电话波动比较大\\n                波动主要是由于busi_name = NULL  引起的\\n                求累计波动：\\n                可以看到，根据每个月的app用量来累计，可以得到下图，\\n                    正常电话      vs      诈骗电话\\n            mean     193.160232           74.733435\\n                                            超过一半波动为0\\n            \\n    \\n'"
      ]
     },
     "execution_count": 4,
     "metadata": {},
     "output_type": "execute_result"
    }
   ],
   "source": [
    "'''\n",
    "    观察诈骗电话和app使用的关系\n",
    "    因为缺失的大多数都是app名字和月份，所以不进行处理。(用unknown处理，或者用LGB直接对缺失值做处理)\n",
    "    \n",
    "    特征\n",
    "        1. app使用量，平均值：\n",
    "                        正常电话 >> 诈骗电话\n",
    "                        (有些诈骗电话使用app数量很大，结合时间特征观察，看是不是后期才转化为诈骗电话)\n",
    "                        不是那么简单，看看tableau结合时间做分析\n",
    "        2. app为null，正常的比诈骗电话占比要多，难以作为特征\n",
    "        \n",
    "        3. 时间和busi_name,总体上差不多，诈骗电话相对用量较少，正常电话波动比较大\n",
    "                波动主要是由于busi_name = NULL  引起的\n",
    "                求累计波动：\n",
    "                可以看到，根据每个月的app用量来累计，可以得到下图，\n",
    "                    正常电话      vs      诈骗电话\n",
    "            mean     193.160232           74.733435\n",
    "                                            超过一半波动为0\n",
    "            \n",
    "        4. 正常电话用的流量会更多，无论是总体还是平均，在每一个月份，总体平均值高了13左右\n",
    "            可能需要定义几个区间作为特征\n",
    "            \n",
    "            \n",
    "        \n",
    "    \n",
    "'''"
   ]
  },
  {
   "cell_type": "code",
   "execution_count": 5,
   "metadata": {},
   "outputs": [],
   "source": [
    "a = pd.merge(train_app,train_label,on='phone_no_m',how='inner')\n",
    "# 用tableau发现，为null时，label为0和为1的结果相差不大，\n",
    "a.dropna(subset=['month_id'],inplace=True)"
   ]
  },
  {
   "cell_type": "code",
   "execution_count": 79,
   "metadata": {},
   "outputs": [],
   "source": []
  },
  {
   "cell_type": "code",
   "execution_count": 81,
   "metadata": {},
   "outputs": [],
   "source": [
    "# b = 统计busi_name\n",
    "b = a.groupby('phone_no_m').count().reset_index()[['phone_no_m','label']]\n",
    "b.rename(columns={'label':'app_count'},inplace=True)\n",
    "b = pd.merge(b,train_label,on='phone_no_m',how='inner')"
   ]
  },
  {
   "cell_type": "code",
   "execution_count": 82,
   "metadata": {
    "scrolled": false
   },
   "outputs": [
    {
     "data": {
      "image/png": "[encoded data removed]",
      "text/plain": [
       "<Figure size 576x576 with 1 Axes>"
      ]
     },
     "metadata": {
      "needs_background": "light"
     },
     "output_type": "display_data"
    },
    {
     "name": "stdout",
     "output_type": "stream",
     "text": [
      "      app_count                                                          \n",
      "          count        mean         std  min   25%    50%     75%     max\n",
      "label                                                                    \n",
      "0        4144.0  670.625965  655.931199  0.0  49.0  495.0  1149.0  3336.0\n",
      "1        1962.0  256.735984  545.956876  0.0   0.0   17.0   119.0  3337.0\n"
     ]
    },
    {
     "data": {
      "text/plain": [
       "2608"
      ]
     },
     "execution_count": 82,
     "metadata": {},
     "output_type": "execute_result"
    }
   ],
   "source": [
    "fig,ax=plt.subplots(1,1,figsize=(8,8))\n",
    "sns.boxplot(y=b['app_count'],x=b['label'])\n",
    "plt.title('app使用数量与诈骗电话的关系')\n",
    "plt.show()\n",
    "\n",
    "print(b.groupby('label').describe())\n",
    "del b\n",
    "gc.collect()"
   ]
  },
  {
   "cell_type": "code",
   "execution_count": 136,
   "metadata": {
    "scrolled": false
   },
   "outputs": [],
   "source": [
    "# 考虑每个号码的平均波动\n",
    "groups = a.groupby(['phone_no_m','month_id']).count()\n",
    "\n",
    "groups = pd.DataFrame(groups['label'].shift() - groups['label']).abs() # ----> diff()\n",
    "\n",
    "# 把month_id去掉，然后根据phone_no_m做分组，求累加\n",
    "groups = groups.reset_index().drop(columns='month_id').dropna().groupby('phone_no_m').sum().rename(columns={'label':'cumsum_app_use'}).reset_index()\n",
    "\n",
    "groups = pd.merge(groups,train_label,on='phone_no_m',how='inner')"
   ]
  },
  {
   "cell_type": "code",
   "execution_count": 140,
   "metadata": {},
   "outputs": [
    {
     "data": {
      "image/png": "[encoded data removed]",
      "text/plain": [
       "<Figure size 576x576 with 1 Axes>"
      ]
     },
     "metadata": {
      "needs_background": "light"
     },
     "output_type": "display_data"
    },
    {
     "name": "stdout",
     "output_type": "stream",
     "text": [
      "      cumsum_app_use                                                          \n",
      "               count        mean         std  min   25%    50%     75%     max\n",
      "label                                                                         \n",
      "0             4144.0  193.160232  169.966983  0.0  41.0  169.0  293.00  1193.0\n",
      "1             1962.0   74.733435  153.649700  0.0   0.0    0.0   62.75   940.0\n"
     ]
    },
    {
     "data": {
      "text/plain": [
       "5045"
      ]
     },
     "execution_count": 140,
     "metadata": {},
     "output_type": "execute_result"
    }
   ],
   "source": [
    "fig,ax = plt.subplots(1,1,figsize=(8,8))\n",
    "sns.boxplot(y=groups['cumsum_app_use'],x=groups['label'])\n",
    "plt.show()\n",
    "\n",
    "print(groups.groupby('label').describe())\n",
    "\n",
    "del groups\n",
    "gc.collect()"
   ]
  },
  {
   "cell_type": "code",
   "execution_count": 16,
   "metadata": {},
   "outputs": [
    {
     "data": {
      "image/png": "[encoded data removed]",
      "text/plain": [
       "<Figure size 576x576 with 1 Axes>"
      ]
     },
     "metadata": {
      "needs_background": "light"
     },
     "output_type": "display_data"
    },
    {
     "data": {
      "text/html": [
       "<div>\n",
       "<style scoped>\n",
       "    .dataframe tbody tr th:only-of-type {\n",
       "        vertical-align: middle;\n",
       "    }\n",
       "\n",
       "    .dataframe tbody tr th {\n",
       "        vertical-align: top;\n",
       "    }\n",
       "\n",
       "    .dataframe thead th {\n",
       "        text-align: right;\n",
       "    }\n",
       "</style>\n",
       "<table border=\"1\" class=\"dataframe\">\n",
       "  <thead>\n",
       "    <tr style=\"text-align: right;\">\n",
       "      <th></th>\n",
       "      <th>flow</th>\n",
       "    </tr>\n",
       "    <tr>\n",
       "      <th>label</th>\n",
       "      <th></th>\n",
       "    </tr>\n",
       "  </thead>\n",
       "  <tbody>\n",
       "    <tr>\n",
       "      <td>0</td>\n",
       "      <td>56.728973</td>\n",
       "    </tr>\n",
       "    <tr>\n",
       "      <td>1</td>\n",
       "      <td>69.864731</td>\n",
       "    </tr>\n",
       "  </tbody>\n",
       "</table>\n",
       "</div>"
      ],
      "text/plain": [
       "            flow\n",
       "label           \n",
       "0      56.728973\n",
       "1      69.864731"
      ]
     },
     "execution_count": 16,
     "metadata": {},
     "output_type": "execute_result"
    }
   ],
   "source": [
    "# 观察flow\n",
    "fig,ax=plt.subplots(1,1,figsize=(8,8))\n",
    "sns.barplot(y=a['flow'],x=a['month_id'],hue=a['label'])\n",
    "plt.show()\n",
    "\n",
    "a.groupby('label').mean()"
   ]
  },
  {
   "cell_type": "code",
   "execution_count": 145,
   "metadata": {},
   "outputs": [],
   "source": [
    "test_app.dropna(subset=['month_id'],inplace=True)\n",
    "train_app.dropna(subset=['month_id'],inplace=True)"
   ]
  },
  {
   "cell_type": "code",
   "execution_count": 146,
   "metadata": {},
   "outputs": [],
   "source": [
    "train_app.to_pickle('after_EDA/train_app.pkl')\n",
    "test_app.to_pickle('after_EDA/test_app.pkl')"
   ]
  },
  {
   "cell_type": "code",
   "execution_count": 67,
   "metadata": {},
   "outputs": [],
   "source": [
    "# 用tableau可视化\n",
    "a.to_csv('app.csv')"
   ]
  }
 ],
 "metadata": {
  "kernelspec": {
   "display_name": "Python 3",
   "language": "python",
   "name": "python3"
  },
  "language_info": {
   "codemirror_mode": {
    "name": "ipython",
    "version": 3
   },
   "file_extension": ".py",
   "mimetype": "text/x-python",
   "name": "python",
   "nbconvert_exporter": "python",
   "pygments_lexer": "ipython3",
   "version": "3.7.2"
  }
 },
 "nbformat": 4,
 "nbformat_minor": 2
}
