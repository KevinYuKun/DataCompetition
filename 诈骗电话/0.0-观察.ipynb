{
 "cells": [
  {
   "cell_type": "code",
   "execution_count": 1,
   "metadata": {},
   "outputs": [],
   "source": [
    "import numpy as np\n",
    "import pandas as pd\n",
    "import warnings\n",
    "warnings.filterwarnings('ignore')\n",
    "import gc\n",
    "import time"
   ]
  },
  {
   "cell_type": "code",
   "execution_count": 3,
   "metadata": {},
   "outputs": [
    {
     "name": "stdout",
     "output_type": "stream",
     "text": [
      "耗时 29.91897988319397\n"
     ]
    }
   ],
   "source": [
    "s = time.time()\n",
    "a = pd.read_csv('train/train_app.csv')\n",
    "b = pd.read_csv('train/train_sms.csv')\n",
    "c = pd.read_csv('train/train_user.csv')\n",
    "d = pd.read_csv('train/train_voc.csv')\n",
    "\n",
    "a1 = pd.read_csv('test/test_app.csv')\n",
    "b1 = pd.read_csv('test/test_sms.csv')\n",
    "c1 = pd.read_csv('test/test_user.csv')\n",
    "d1 = pd.read_csv('test/test_voc.csv')\n",
    "\n",
    "print('耗时',(time.time() -s))\n",
    "# IMEI 手机序列号"
   ]
  },
  {
   "cell_type": "code",
   "execution_count": 9,
   "metadata": {},
   "outputs": [
    {
     "data": {
      "text/plain": [
       "(6106, 13)"
      ]
     },
     "execution_count": 9,
     "metadata": {},
     "output_type": "execute_result"
    }
   ],
   "source": [
    "c.shape"
   ]
  },
  {
   "cell_type": "raw",
   "metadata": {},
   "source": [
    "整理数据，主要是将之改成内存较小的 "
   ]
  },
  {
   "cell_type": "code",
   "execution_count": 23,
   "metadata": {},
   "outputs": [],
   "source": [
    "# 改变名字\n",
    "b.calltype_id = b.calltype_id.astype(np.object)\n",
    "b.rename(columns={'calltype_id':'sms_calltype_id'},inplace=True)\n",
    "b1.calltype_id = b1.calltype_id.astype(np.object)\n",
    "b1.rename(columns={'calltype_id':'sms_calltype_id'},inplace=True)\n",
    "\n",
    "d.calltype_id = d.calltype_id.astype(np.object)\n",
    "d.rename(columns={'calltype_id':'voice_calltype_id'},inplace=True)\n",
    "d1.calltype_id = d1.calltype_id.astype(np.object)\n",
    "d1.rename(columns={'calltype_id':'voice_calltype_id'},inplace=True)"
   ]
  },
  {
   "cell_type": "code",
   "execution_count": 39,
   "metadata": {},
   "outputs": [
    {
     "name": "stdout",
     "output_type": "stream",
     "text": [
      "Average memory usage for float columns:0.00 MB\n",
      "Average memory usage for int columns:0.00 MB\n",
      "Average memory usage for object columns:120.47 MB\n"
     ]
    }
   ],
   "source": [
    "for dtype in ['float', 'int', 'object']:\n",
    "    # 选中对应的dtype列\n",
    "    selected_dtype = a.select_dtypes(include=[dtype])\n",
    "    # 查看内存使用量的平均值\n",
    "    mean_usage_b = selected_dtype.memory_usage(deep=True).mean()\n",
    "    # 获取到的数据单位为K, 这里转换一下\n",
    "    mean_usage_mb = mean_usage_b / 1024 ** 2\n",
    "    print(\"Average memory usage for {} columns:{:03.2f} MB\".format(dtype, mean_usage_mb))"
   ]
  },
  {
   "cell_type": "code",
   "execution_count": 43,
   "metadata": {},
   "outputs": [
    {
     "data": {
      "text/html": [
       "<div>\n",
       "<style scoped>\n",
       "    .dataframe tbody tr th:only-of-type {\n",
       "        vertical-align: middle;\n",
       "    }\n",
       "\n",
       "    .dataframe tbody tr th {\n",
       "        vertical-align: top;\n",
       "    }\n",
       "\n",
       "    .dataframe thead th {\n",
       "        text-align: right;\n",
       "    }\n",
       "</style>\n",
       "<table border=\"1\" class=\"dataframe\">\n",
       "  <thead>\n",
       "    <tr style=\"text-align: right;\">\n",
       "      <th></th>\n",
       "      <th>phone_no_m</th>\n",
       "      <th>busi_name</th>\n",
       "      <th>flow</th>\n",
       "      <th>month_id</th>\n",
       "    </tr>\n",
       "  </thead>\n",
       "  <tbody>\n",
       "    <tr>\n",
       "      <td>0</td>\n",
       "      <td>416cec0f25b93f08bfd9cff44382c5da3a6346beb16a2c...</td>\n",
       "      <td>NaN</td>\n",
       "      <td>0.000000</td>\n",
       "      <td>NaN</td>\n",
       "    </tr>\n",
       "    <tr>\n",
       "      <td>1</td>\n",
       "      <td>26fcb7c6f4125ee5445756d4ff5346c29f2aff7d0f2e31...</td>\n",
       "      <td>NaN</td>\n",
       "      <td>0.000000</td>\n",
       "      <td>NaN</td>\n",
       "    </tr>\n",
       "    <tr>\n",
       "      <td>2</td>\n",
       "      <td>1a58c82eeefdb00ea6abf2e6010a8e808b27e1802b764d...</td>\n",
       "      <td>NaN</td>\n",
       "      <td>0.021529</td>\n",
       "      <td>2019-12</td>\n",
       "    </tr>\n",
       "    <tr>\n",
       "      <td>3</td>\n",
       "      <td>1a58c82eeefdb00ea6abf2e6010a8e808b27e1802b764d...</td>\n",
       "      <td>微信</td>\n",
       "      <td>0.001846</td>\n",
       "      <td>2019-12</td>\n",
       "    </tr>\n",
       "    <tr>\n",
       "      <td>4</td>\n",
       "      <td>1a58c82eeefdb00ea6abf2e6010a8e808b27e1802b764d...</td>\n",
       "      <td>高德导航</td>\n",
       "      <td>0.002288</td>\n",
       "      <td>2019-12</td>\n",
       "    </tr>\n",
       "  </tbody>\n",
       "</table>\n",
       "</div>"
      ],
      "text/plain": [
       "                                          phone_no_m busi_name      flow  \\\n",
       "0  416cec0f25b93f08bfd9cff44382c5da3a6346beb16a2c...       NaN  0.000000   \n",
       "1  26fcb7c6f4125ee5445756d4ff5346c29f2aff7d0f2e31...       NaN  0.000000   \n",
       "2  1a58c82eeefdb00ea6abf2e6010a8e808b27e1802b764d...       NaN  0.021529   \n",
       "3  1a58c82eeefdb00ea6abf2e6010a8e808b27e1802b764d...        微信  0.001846   \n",
       "4  1a58c82eeefdb00ea6abf2e6010a8e808b27e1802b764d...      高德导航  0.002288   \n",
       "\n",
       "  month_id  \n",
       "0      NaN  \n",
       "1      NaN  \n",
       "2  2019-12  \n",
       "3  2019-12  \n",
       "4  2019-12  "
      ]
     },
     "execution_count": 43,
     "metadata": {},
     "output_type": "execute_result"
    }
   ],
   "source": []
  },
  {
   "cell_type": "code",
   "execution_count": 47,
   "metadata": {},
   "outputs": [
    {
     "data": {
      "text/html": [
       "<div>\n",
       "<style scoped>\n",
       "    .dataframe tbody tr th:only-of-type {\n",
       "        vertical-align: middle;\n",
       "    }\n",
       "\n",
       "    .dataframe tbody tr th {\n",
       "        vertical-align: top;\n",
       "    }\n",
       "\n",
       "    .dataframe thead th {\n",
       "        text-align: right;\n",
       "    }\n",
       "</style>\n",
       "<table border=\"1\" class=\"dataframe\">\n",
       "  <thead>\n",
       "    <tr style=\"text-align: right;\">\n",
       "      <th></th>\n",
       "      <th>phone_no_m</th>\n",
       "      <th>opposite_no_m</th>\n",
       "      <th>voice_calltype_id</th>\n",
       "      <th>start_datetime</th>\n",
       "      <th>city_name</th>\n",
       "      <th>county_name</th>\n",
       "      <th>imei_m</th>\n",
       "    </tr>\n",
       "  </thead>\n",
       "  <tbody>\n",
       "    <tr>\n",
       "      <td>count</td>\n",
       "      <td>5015430</td>\n",
       "      <td>5015430</td>\n",
       "      <td>5015430</td>\n",
       "      <td>5015430</td>\n",
       "      <td>4455901</td>\n",
       "      <td>4455901</td>\n",
       "      <td>5015430</td>\n",
       "    </tr>\n",
       "    <tr>\n",
       "      <td>unique</td>\n",
       "      <td>6025</td>\n",
       "      <td>1259878</td>\n",
       "      <td>3</td>\n",
       "      <td>4079930</td>\n",
       "      <td>21</td>\n",
       "      <td>196</td>\n",
       "      <td>14570</td>\n",
       "    </tr>\n",
       "    <tr>\n",
       "      <td>top</td>\n",
       "      <td>21e490b5531874a711456555dd3f7d9dd58a2a9d233087...</td>\n",
       "      <td>5825f76d4fb2e58e2ad70af2230ff63d714c00e444bfc0...</td>\n",
       "      <td>1</td>\n",
       "      <td>2020-03-04 14:19:33</td>\n",
       "      <td>成都</td>\n",
       "      <td>高新南区</td>\n",
       "      <td>a6664bcfdc892ab75e55e4a46c63cf727c838ce34664db...</td>\n",
       "    </tr>\n",
       "    <tr>\n",
       "      <td>freq</td>\n",
       "      <td>18261</td>\n",
       "      <td>9709</td>\n",
       "      <td>3008933</td>\n",
       "      <td>7</td>\n",
       "      <td>2018589</td>\n",
       "      <td>374546</td>\n",
       "      <td>18261</td>\n",
       "    </tr>\n",
       "  </tbody>\n",
       "</table>\n",
       "</div>"
      ],
      "text/plain": [
       "                                               phone_no_m  \\\n",
       "count                                             5015430   \n",
       "unique                                               6025   \n",
       "top     21e490b5531874a711456555dd3f7d9dd58a2a9d233087...   \n",
       "freq                                                18261   \n",
       "\n",
       "                                            opposite_no_m  voice_calltype_id  \\\n",
       "count                                             5015430            5015430   \n",
       "unique                                            1259878                  3   \n",
       "top     5825f76d4fb2e58e2ad70af2230ff63d714c00e444bfc0...                  1   \n",
       "freq                                                 9709            3008933   \n",
       "\n",
       "             start_datetime city_name county_name  \\\n",
       "count               5015430   4455901     4455901   \n",
       "unique              4079930        21         196   \n",
       "top     2020-03-04 14:19:33        成都        高新南区   \n",
       "freq                      7   2018589      374546   \n",
       "\n",
       "                                                   imei_m  \n",
       "count                                             5015430  \n",
       "unique                                              14570  \n",
       "top     a6664bcfdc892ab75e55e4a46c63cf727c838ce34664db...  \n",
       "freq                                                18261  "
      ]
     },
     "execution_count": 47,
     "metadata": {},
     "output_type": "execute_result"
    }
   ],
   "source": [
    "d.select_dtypes(include=['object','category']).describe()"
   ]
  },
  {
   "cell_type": "code",
   "execution_count": 48,
   "metadata": {},
   "outputs": [],
   "source": [
    "numberics = ['int16', 'int32','int64', 'float16', 'float32', 'float64']\n",
    "objects = ['month_id','sms_calltype_id','phone_no_m','city_name','county_name','voice_calltype_id','county_name','busi_name','imei_m']\n",
    "def memory_reduce(df):\n",
    "#     import pdb; pdb.set_trace()\n",
    "    start_memory = df.memory_usage(deep=True).sum()/1024**2\n",
    "    for col in df.columns:\n",
    "        # 转换object 为category\n",
    "        if col in objects:\n",
    "            df[col] = df[col].astype('category')\n",
    "            continue\n",
    "        \n",
    "        col_type = df[col].dtypes\n",
    "        if col_type in numberics:\n",
    "            c_min = df[col].min()\n",
    "            c_max = df[col].max()\n",
    "            if str(col_type)[:3] == 'int':\n",
    "                if c_min > np.iinfo(np.int8).min and c_max < np.iinfo(np.int8).max:\n",
    "                        df[col] = df[col].astype(np.int8)\n",
    "                elif c_min > np.iinfo(np.int16).min and c_max < np.iinfo(np.int16).max:\n",
    "                        df[col] = df[col].astype(np.int16)\n",
    "                elif c_min > np.iinfo(np.int32).min and c_max < np.iinfo(np.int32).max:\n",
    "                        df[col] = df[col].astype(np.int32)\n",
    "                elif c_min > np.iinfo(np.int64).min and c_max < np.iinfo(np.int64).max:\n",
    "                        df[col] = df[col].astype(np.int64)\n",
    "            elif str(col_type)[:5] == 'float':\n",
    "                if c_min > np.finfo(np.float16).min and c_max < np.finfo(np.float16).max:\n",
    "                        df[col] = df[col].astype(np.float16)\n",
    "                elif c_min > np.finfo(np.float32).min and c_max < np.finfo(np.float32).max:\n",
    "                        df[col] = df[col].astype(np.float32)\n",
    "                elif c_min > np.finfo(np.float64).min and c_max < np.finfo(np.float64).max:\n",
    "                        df[col] = df[col].astype(np.float64)\n",
    "    end_memory = df.memory_usage(deep=True).sum()/1024**2\n",
    "    print('Mem. usage decreased to {:5.2f} Mb {:.1f}% reduction'.format(end_memory, 100*(start_memory - end_memory)/start_memory))\n",
    "    return df\n",
    "\n"
   ]
  },
  {
   "cell_type": "code",
   "execution_count": 49,
   "metadata": {},
   "outputs": [
    {
     "name": "stdout",
     "output_type": "stream",
     "text": [
      "Mem. usage decreased to 29.96 Mb 88.7% reduction\n",
      "Mem. usage decreased to 1725.48 Mb 0.0% reduction\n",
      "Mem. usage decreased to  1.39 Mb 0.0% reduction\n",
      "Mem. usage decreased to 1300.66 Mb 40.1% reduction\n",
      "Mem. usage decreased to  1.57 Mb 85.7% reduction\n",
      "Mem. usage decreased to 103.38 Mb 0.0% reduction\n",
      "Mem. usage decreased to  0.48 Mb 0.0% reduction\n",
      "Mem. usage decreased to 72.46 Mb 39.7% reduction\n"
     ]
    }
   ],
   "source": [
    "a = memory_reduce(a)\n",
    "b = memory_reduce(b)\n",
    "c = memory_reduce(c)\n",
    "d = memory_reduce(d)\n",
    "\n",
    "a1 = memory_reduce(a1)\n",
    "b1 = memory_reduce(b1)\n",
    "c1 = memory_reduce(c1)\n",
    "d1 = memory_reduce(d1)"
   ]
  },
  {
   "cell_type": "code",
   "execution_count": 50,
   "metadata": {},
   "outputs": [],
   "source": [
    "a.to_pickle('after_reducion/train_app.pkl')\n",
    "b.to_pickle('after_reducion/train_sms.pkl')\n",
    "c.to_pickle('after_reducion/train_user.pkl')\n",
    "d.to_pickle('after_reducion/train_voc.pkl')\n",
    "\n",
    "a1.to_pickle('after_reducion/test_app.pkl')\n",
    "b1.to_pickle('after_reducion/test_sms.pkl')\n",
    "c1.to_pickle('after_reducion/test_user.pkl')\n",
    "d1.to_pickle('after_reducion/test_voc.pkl')\n",
    "\n"
   ]
  },
  {
   "cell_type": "code",
   "execution_count": 51,
   "metadata": {},
   "outputs": [
    {
     "data": {
      "text/plain": [
       "3598"
      ]
     },
     "execution_count": 51,
     "metadata": {},
     "output_type": "execute_result"
    }
   ],
   "source": [
    "del a,b,c,d,a1,b1,c1,d1\n",
    "gc.collect()"
   ]
  },
  {
   "cell_type": "code",
   "execution_count": null,
   "metadata": {},
   "outputs": [],
   "source": []
  }
 ],
 "metadata": {
  "kernelspec": {
   "display_name": "Python 3",
   "language": "python",
   "name": "python3"
  },
  "language_info": {
   "codemirror_mode": {
    "name": "ipython",
    "version": 3
   },
   "file_extension": ".py",
   "mimetype": "text/x-python",
   "name": "python",
   "nbconvert_exporter": "python",
   "pygments_lexer": "ipython3",
   "version": "3.7.2"
  },
  "latex_envs": {
   "LaTeX_envs_menu_present": true,
   "autoclose": false,
   "autocomplete": true,
   "bibliofile": "biblio.bib",
   "cite_by": "apalike",
   "current_citInitial": 1,
   "eqLabelWithNumbers": true,
   "eqNumInitial": 1,
   "hotkeys": {
    "equation": "Ctrl-E",
    "itemize": "Ctrl-I"
   },
   "labels_anchors": false,
   "latex_user_defs": false,
   "report_style_numbering": false,
   "user_envs_cfg": false
  },
  "toc": {
   "base_numbering": 1,
   "nav_menu": {},
   "number_sections": true,
   "sideBar": true,
   "skip_h1_title": false,
   "title_cell": "Table of Contents",
   "title_sidebar": "Contents",
   "toc_cell": false,
   "toc_position": {},
   "toc_section_display": true,
   "toc_window_display": false
  }
 },
 "nbformat": 4,
 "nbformat_minor": 2
}
