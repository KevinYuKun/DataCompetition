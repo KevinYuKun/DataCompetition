{
 "cells": [
  {
   "cell_type": "code",
   "execution_count": 75,
   "metadata": {},
   "outputs": [
    {
     "name": "stdout",
     "output_type": "stream",
     "text": [
      "INFO: Pandarallel will run on 8 workers.\n",
      "INFO: Pandarallel will use standard multiprocessing data transfer (pipe) to transfer data between the main process and workers.\n"
     ]
    }
   ],
   "source": [
    "import numpy as np\n",
    "import pandas as pd\n",
    "import warnings\n",
    "warnings.filterwarnings('ignore')\n",
    "import gc\n",
    "import time\n",
    "\n",
    "import matplotlib.pyplot as plt\n",
    "plt.rcParams['font.sans-serif']=['SimHei'] #用来正常显示中文标签\n",
    "plt.rcParams['axes.unicode_minus']=False #用来正常显示负号\n",
    "import seaborn as sns\n",
    "\n",
    "from pandarallel import pandarallel\n",
    "pandarallel.initialize()"
   ]
  },
  {
   "cell_type": "code",
   "execution_count": 2,
   "metadata": {},
   "outputs": [],
   "source": [
    "train_user = pd.read_pickle('after_reducion/train_user.pkl')\n",
    "test_user = pd.read_pickle('after_reducion/test_user.pkl')"
   ]
  },
  {
   "cell_type": "code",
   "execution_count": null,
   "metadata": {},
   "outputs": [],
   "source": [
    "'''\n",
    "    处理缺失值：city name 和 county name用未知代替\n",
    "    float16不够用，得用float64\n",
    "    \n",
    "    这里没有都话费的缺失值进行处理，因为考虑到，如果用所有人每个月的平均话费来填补。好像没什么意义，\n",
    "                                如果用每个人几个月来的话费进行填补，可能又多此一举\n",
    "                                如果考虑用每个月的众数来填补，那么会发现起前几个月的话费都是1，没什么意义\n",
    "                                so 考虑观察nan和非nan情况下话费的每个号码话费的平均值\n",
    "    \n",
    "    可能的特征：\n",
    "        1. 话费为负数可能代表欠费, 将之转为正数，并添加特征是否欠费.\n",
    "            首先因为欠费的人数极少，而且进一步观察，发现欠费人都不是诈骗电话 -----> 可能可以用来证明是正常电话\n",
    "        \n",
    "        2. 可以添加特征，是否为NAN 和  平均话费是否较高\n",
    "            分析发现，为NAN时诈骗电话概率较高，平均话费高时，诈骗电话概率较高.\n",
    "            总体来说，诈骗电话话费更高\n",
    "            特征: is_null 和  mean_arpu（test数据里是arpu_202004）\n",
    "            \n",
    "        3. 观察mean_arpu时发现，当地方数据和话费数据全为NAN时，都是诈骗电话（主要考虑话费）\n",
    "            所以可以添加另一个特征，is_all_null（test 里面就是is_null）\n",
    "        \n",
    "        4. 可能的特征，idcard_cnt == 0的更有可能是诈骗电话，可以存起来.\n",
    "            idcard_cnt_equal_zero\n",
    "        \n",
    "        5. idcard_cnt的平均值，idcard_cnt_small_two 从平均值可以看出来，分界线是2，低于2的一般为正常电话。\n",
    "    \n",
    "    \n",
    "'''"
   ]
  },
  {
   "cell_type": "code",
   "execution_count": 170,
   "metadata": {},
   "outputs": [
    {
     "data": {
      "text/plain": [
       "phone_no_m        0\n",
       "city_name         0\n",
       "county_name       0\n",
       "idcard_cnt        0\n",
       "arpu_201908    1791\n",
       "arpu_201909    1641\n",
       "arpu_201910    1436\n",
       "arpu_201911    1026\n",
       "arpu_201912     854\n",
       "arpu_202001     957\n",
       "arpu_202002     945\n",
       "arpu_202003     737\n",
       "label             0\n",
       "is_arrears        0\n",
       "mean_arpu       174\n",
       "dtype: int64"
      ]
     },
     "execution_count": 170,
     "metadata": {},
     "output_type": "execute_result"
    }
   ],
   "source": [
    "train_user.isnull().sum()"
   ]
  },
  {
   "cell_type": "code",
   "execution_count": 171,
   "metadata": {},
   "outputs": [
    {
     "data": {
      "text/plain": [
       "phone_no_m       0\n",
       "city_name        0\n",
       "county_name      0\n",
       "idcard_cnt       0\n",
       "arpu_202004    176\n",
       "is_arrears       0\n",
       "dtype: int64"
      ]
     },
     "execution_count": 171,
     "metadata": {},
     "output_type": "execute_result"
    }
   ],
   "source": [
    "test_user.isnull().sum()"
   ]
  },
  {
   "cell_type": "code",
   "execution_count": 7,
   "metadata": {},
   "outputs": [],
   "source": [
    "train_user['city_name'] = train_user['city_name'].astype('object').fillna('未知').astype('category')\n",
    "train_user['county_name'] = train_user['county_name'].astype('object').fillna('未知').astype('category')\n",
    "\n",
    "test_user['city_name'] = test_user['city_name'].astype('object').fillna('未知').astype('category')\n",
    "test_user['county_name'] = test_user['county_name'].astype('object').fillna('未知').astype('category')"
   ]
  },
  {
   "cell_type": "code",
   "execution_count": 78,
   "metadata": {},
   "outputs": [],
   "source": [
    "# 清理负数\n",
    "def clear_minus(a,b,c,d,e,f,g,h):\n",
    "    if a < 0 or b <0 or c < 0 or d < 0 or e < 0 or f < 0 or g < 0 or h < 0:\n",
    "        return 1\n",
    "    else:\n",
    "        return 0\n",
    "    "
   ]
  },
  {
   "cell_type": "raw",
   "metadata": {},
   "source": [
    "第一个特征is_arrears有没有欠话费"
   ]
  },
  {
   "cell_type": "code",
   "execution_count": 81,
   "metadata": {},
   "outputs": [],
   "source": [
    "train_user['is_arrears'] = 0\n",
    "train_user['is_arrears'] = train_user.parallel_apply(lambda x:clear_minus(x['arpu_201908'],x['arpu_201909'],\n",
    "                                                                          x['arpu_201910'],x['arpu_201911'],\n",
    "                                                                          x['arpu_201912'],x['arpu_202001'],\n",
    "                                                                          x['arpu_202002'],x['arpu_202003']),axis=1)\n",
    "test_user['is_arrears'] = 0\n",
    "test_user['is_arrears'] = test_user['arpu_202004'].apply(lambda x:1 if x < 0 else 0)"
   ]
  },
  {
   "cell_type": "code",
   "execution_count": 87,
   "metadata": {},
   "outputs": [],
   "source": [
    "train_user['arpu_201908'] = train_user['arpu_201908'].abs() \n",
    "train_user['arpu_201909'] = train_user['arpu_201909'].abs() \n",
    "train_user['arpu_201910'] = train_user['arpu_201910'].abs() \n",
    "train_user['arpu_201911'] = train_user['arpu_201911'].abs() \n",
    "train_user['arpu_201912'] = train_user['arpu_201912'].abs() \n",
    "train_user['arpu_202001'] = train_user['arpu_202001'].abs() \n",
    "train_user['arpu_202002'] = train_user['arpu_202002'].abs() \n",
    "train_user['arpu_202003'] = train_user['arpu_202003'].abs() \n",
    "test_user['arpu_202004'] = test_user['arpu_202004'].abs() "
   ]
  },
  {
   "cell_type": "code",
   "execution_count": 219,
   "metadata": {},
   "outputs": [
    {
     "data": {
      "text/html": [
       "<div>\n",
       "<style scoped>\n",
       "    .dataframe tbody tr th:only-of-type {\n",
       "        vertical-align: middle;\n",
       "    }\n",
       "\n",
       "    .dataframe tbody tr th {\n",
       "        vertical-align: top;\n",
       "    }\n",
       "\n",
       "    .dataframe thead th {\n",
       "        text-align: right;\n",
       "    }\n",
       "</style>\n",
       "<table border=\"1\" class=\"dataframe\">\n",
       "  <thead>\n",
       "    <tr style=\"text-align: right;\">\n",
       "      <th></th>\n",
       "      <th>idcard_cnt</th>\n",
       "      <th>arpu_201908</th>\n",
       "      <th>arpu_201909</th>\n",
       "      <th>arpu_201910</th>\n",
       "      <th>arpu_201911</th>\n",
       "      <th>arpu_201912</th>\n",
       "      <th>arpu_202001</th>\n",
       "      <th>arpu_202002</th>\n",
       "      <th>arpu_202003</th>\n",
       "      <th>label</th>\n",
       "      <th>is_arrears</th>\n",
       "      <th>mean_arpu</th>\n",
       "      <th>is_null</th>\n",
       "      <th>is_all_null</th>\n",
       "    </tr>\n",
       "  </thead>\n",
       "  <tbody>\n",
       "    <tr>\n",
       "      <td>count</td>\n",
       "      <td>6106.000000</td>\n",
       "      <td>4315.000000</td>\n",
       "      <td>4465.000000</td>\n",
       "      <td>4670.000000</td>\n",
       "      <td>5080.000000</td>\n",
       "      <td>5252.000000</td>\n",
       "      <td>5149.000000</td>\n",
       "      <td>5161.000000</td>\n",
       "      <td>5369.000000</td>\n",
       "      <td>6106.000000</td>\n",
       "      <td>6106.000000</td>\n",
       "      <td>5932.000000</td>\n",
       "      <td>6106.000000</td>\n",
       "      <td>6106.000000</td>\n",
       "    </tr>\n",
       "    <tr>\n",
       "      <td>mean</td>\n",
       "      <td>2.071896</td>\n",
       "      <td>60.360384</td>\n",
       "      <td>58.779904</td>\n",
       "      <td>59.753124</td>\n",
       "      <td>64.608245</td>\n",
       "      <td>70.568912</td>\n",
       "      <td>59.490727</td>\n",
       "      <td>58.612965</td>\n",
       "      <td>64.294162</td>\n",
       "      <td>0.321323</td>\n",
       "      <td>0.001146</td>\n",
       "      <td>66.535637</td>\n",
       "      <td>0.304291</td>\n",
       "      <td>0.028497</td>\n",
       "    </tr>\n",
       "    <tr>\n",
       "      <td>std</td>\n",
       "      <td>1.329156</td>\n",
       "      <td>62.839332</td>\n",
       "      <td>63.026827</td>\n",
       "      <td>70.519587</td>\n",
       "      <td>87.771445</td>\n",
       "      <td>115.368201</td>\n",
       "      <td>75.448351</td>\n",
       "      <td>177.211136</td>\n",
       "      <td>130.291484</td>\n",
       "      <td>0.467023</td>\n",
       "      <td>0.033842</td>\n",
       "      <td>90.238313</td>\n",
       "      <td>0.460144</td>\n",
       "      <td>0.166400</td>\n",
       "    </tr>\n",
       "    <tr>\n",
       "      <td>min</td>\n",
       "      <td>0.000000</td>\n",
       "      <td>1.000000</td>\n",
       "      <td>1.000000</td>\n",
       "      <td>1.000000</td>\n",
       "      <td>1.000000</td>\n",
       "      <td>1.000000</td>\n",
       "      <td>1.000000</td>\n",
       "      <td>1.000000</td>\n",
       "      <td>1.000000</td>\n",
       "      <td>0.000000</td>\n",
       "      <td>0.000000</td>\n",
       "      <td>1.000000</td>\n",
       "      <td>0.000000</td>\n",
       "      <td>0.000000</td>\n",
       "    </tr>\n",
       "    <tr>\n",
       "      <td>25%</td>\n",
       "      <td>1.000000</td>\n",
       "      <td>14.000000</td>\n",
       "      <td>13.000000</td>\n",
       "      <td>13.328125</td>\n",
       "      <td>14.000000</td>\n",
       "      <td>15.126953</td>\n",
       "      <td>16.375000</td>\n",
       "      <td>14.062500</td>\n",
       "      <td>15.296875</td>\n",
       "      <td>0.000000</td>\n",
       "      <td>0.000000</td>\n",
       "      <td>18.265625</td>\n",
       "      <td>0.000000</td>\n",
       "      <td>0.000000</td>\n",
       "    </tr>\n",
       "    <tr>\n",
       "      <td>50%</td>\n",
       "      <td>2.000000</td>\n",
       "      <td>41.000000</td>\n",
       "      <td>39.593750</td>\n",
       "      <td>39.000000</td>\n",
       "      <td>41.046875</td>\n",
       "      <td>40.000000</td>\n",
       "      <td>39.000000</td>\n",
       "      <td>34.000000</td>\n",
       "      <td>39.000000</td>\n",
       "      <td>0.000000</td>\n",
       "      <td>0.000000</td>\n",
       "      <td>43.186523</td>\n",
       "      <td>0.000000</td>\n",
       "      <td>0.000000</td>\n",
       "    </tr>\n",
       "    <tr>\n",
       "      <td>75%</td>\n",
       "      <td>3.000000</td>\n",
       "      <td>89.000000</td>\n",
       "      <td>82.937500</td>\n",
       "      <td>86.265625</td>\n",
       "      <td>91.140625</td>\n",
       "      <td>92.015625</td>\n",
       "      <td>77.000000</td>\n",
       "      <td>73.000000</td>\n",
       "      <td>77.625000</td>\n",
       "      <td>1.000000</td>\n",
       "      <td>0.000000</td>\n",
       "      <td>85.263672</td>\n",
       "      <td>1.000000</td>\n",
       "      <td>0.000000</td>\n",
       "    </tr>\n",
       "    <tr>\n",
       "      <td>max</td>\n",
       "      <td>13.000000</td>\n",
       "      <td>506.500000</td>\n",
       "      <td>773.500000</td>\n",
       "      <td>1291.000000</td>\n",
       "      <td>1923.000000</td>\n",
       "      <td>1859.000000</td>\n",
       "      <td>1296.000000</td>\n",
       "      <td>11848.000000</td>\n",
       "      <td>4560.000000</td>\n",
       "      <td>1.000000</td>\n",
       "      <td>1.000000</td>\n",
       "      <td>2406.534375</td>\n",
       "      <td>1.000000</td>\n",
       "      <td>1.000000</td>\n",
       "    </tr>\n",
       "  </tbody>\n",
       "</table>\n",
       "</div>"
      ],
      "text/plain": [
       "        idcard_cnt  arpu_201908  arpu_201909  arpu_201910  arpu_201911  \\\n",
       "count  6106.000000  4315.000000  4465.000000  4670.000000  5080.000000   \n",
       "mean      2.071896    60.360384    58.779904    59.753124    64.608245   \n",
       "std       1.329156    62.839332    63.026827    70.519587    87.771445   \n",
       "min       0.000000     1.000000     1.000000     1.000000     1.000000   \n",
       "25%       1.000000    14.000000    13.000000    13.328125    14.000000   \n",
       "50%       2.000000    41.000000    39.593750    39.000000    41.046875   \n",
       "75%       3.000000    89.000000    82.937500    86.265625    91.140625   \n",
       "max      13.000000   506.500000   773.500000  1291.000000  1923.000000   \n",
       "\n",
       "       arpu_201912  arpu_202001   arpu_202002  arpu_202003        label  \\\n",
       "count  5252.000000  5149.000000   5161.000000  5369.000000  6106.000000   \n",
       "mean     70.568912    59.490727     58.612965    64.294162     0.321323   \n",
       "std     115.368201    75.448351    177.211136   130.291484     0.467023   \n",
       "min       1.000000     1.000000      1.000000     1.000000     0.000000   \n",
       "25%      15.126953    16.375000     14.062500    15.296875     0.000000   \n",
       "50%      40.000000    39.000000     34.000000    39.000000     0.000000   \n",
       "75%      92.015625    77.000000     73.000000    77.625000     1.000000   \n",
       "max    1859.000000  1296.000000  11848.000000  4560.000000     1.000000   \n",
       "\n",
       "        is_arrears    mean_arpu      is_null  is_all_null  \n",
       "count  6106.000000  5932.000000  6106.000000  6106.000000  \n",
       "mean      0.001146    66.535637     0.304291     0.028497  \n",
       "std       0.033842    90.238313     0.460144     0.166400  \n",
       "min       0.000000     1.000000     0.000000     0.000000  \n",
       "25%       0.000000    18.265625     0.000000     0.000000  \n",
       "50%       0.000000    43.186523     0.000000     0.000000  \n",
       "75%       0.000000    85.263672     1.000000     0.000000  \n",
       "max       1.000000  2406.534375     1.000000     1.000000  "
      ]
     },
     "execution_count": 219,
     "metadata": {},
     "output_type": "execute_result"
    }
   ],
   "source": [
    "# float16不够用，得用float64\n",
    "# 这个是每个月的平均费用，按照这个题目，月份似乎不能作为依据，因为要用前面的月份数据预测后面月份的。但还是打印出来吧\n",
    "train_user['arpu_201908'] = train_user['arpu_201908'].astype('float')\n",
    "train_user['arpu_201909'] = train_user['arpu_201909'].astype('float')\n",
    "train_user['arpu_201910'] = train_user['arpu_201910'].astype('float')\n",
    "train_user['arpu_201911'] = train_user['arpu_201911'].astype('float')\n",
    "train_user['arpu_201912'] = train_user['arpu_201912'].astype('float')\n",
    "train_user['arpu_202001'] = train_user['arpu_202001'].astype('float')\n",
    "train_user['arpu_202002'] = train_user['arpu_202002'].astype('float')\n",
    "train_user['arpu_202003'] = train_user['arpu_202003'].astype('float')\n",
    "test_user['arpu_202004'] = test_user['arpu_202004'].astype('float')\n",
    "arpu_describe = train_user.describe()[['arpu_201908',\n",
    "       'arpu_201909', 'arpu_201910', 'arpu_201911', 'arpu_201912',\n",
    "       'arpu_202001', 'arpu_202002', 'arpu_202003']]\n",
    "train_user.describe()"
   ]
  },
  {
   "cell_type": "code",
   "execution_count": 91,
   "metadata": {},
   "outputs": [
    {
     "data": {
      "image/png": "[encoded data removed]",
      "text/plain": [
       "<Figure size 288x288 with 1 Axes>"
      ]
     },
     "metadata": {
      "needs_background": "light"
     },
     "output_type": "display_data"
    }
   ],
   "source": [
    "fig,ax = plt.subplots(1,1,figsize=(4,4))\n",
    "sns.lineplot(x = arpu_describe.T.reset_index()['index'],y=arpu_describe.T.reset_index()['mean'],ax=ax,label='mean')\n",
    "ax.set_xlabel('月份',fontsize=16)\n",
    "ax.set_ylabel('话费/mean',fontsize=16)\n",
    "plt.xticks(rotation=45)\n",
    "plt.legend(loc='best',prop={'size':16})\n",
    "plt.show()"
   ]
  },
  {
   "cell_type": "raw",
   "metadata": {},
   "source": [
    "2. Nan 和 电话费 跟诈骗电话的关系"
   ]
  },
  {
   "cell_type": "code",
   "execution_count": 220,
   "metadata": {},
   "outputs": [],
   "source": [
    "# 前几个月的话费平均值\n",
    "train_user['mean_arpu'] = train_user[['arpu_201908',\n",
    "       'arpu_201909', 'arpu_201910', 'arpu_201911', 'arpu_201912',\n",
    "       'arpu_202001', 'arpu_202002', 'arpu_202003']].mean(axis=1)\n",
    "# test里面因为还有一个月的话费，所以就拿它了\n",
    "test_user['mean_arpu'] = test_user['arpu_202004']"
   ]
  },
  {
   "cell_type": "code",
   "execution_count": 141,
   "metadata": {},
   "outputs": [
    {
     "name": "stdout",
     "output_type": "stream",
     "text": [
      "有Nan的情况下：\n",
      "1    1429\n",
      "0     429\n",
      "Name: label, dtype: int64\n",
      "没有Nan的情况下：\n",
      "0    3715\n",
      "1     533\n",
      "Name: label, dtype: int64\n"
     ]
    }
   ],
   "source": [
    "print('有Nan的情况下：')\n",
    "print(train_user[train_user.isnull().T.any()].label.value_counts())\n",
    "print('没有Nan的情况下：')\n",
    "print(train_user[train_user.notnull().T.all()].label.value_counts())"
   ]
  },
  {
   "cell_type": "code",
   "execution_count": 131,
   "metadata": {},
   "outputs": [
    {
     "name": "stdout",
     "output_type": "stream",
     "text": [
      "诈骗电话的平均话费：\n",
      "93.17265372718754\n",
      "正常电话电话的平均话费：\n",
      "55.042638713530174\n"
     ]
    }
   ],
   "source": [
    "print('诈骗电话的平均话费：')\n",
    "print(train_user[train_user['label']==1]['mean_arpu'].mean())\n",
    "print('正常电话电话的平均话费：')\n",
    "print(train_user[train_user['label']==0]['mean_arpu'].mean())"
   ]
  },
  {
   "cell_type": "code",
   "execution_count": 252,
   "metadata": {},
   "outputs": [],
   "source": [
    "# 观察 NAN 和 非NAN 情况下平均话费\n",
    "a = train_user[train_user.isnull().T.any()].reset_index(drop=True)\n",
    "b = pd.DataFrame(a[a['label'] == 1]['mean_arpu']).describe()\n",
    "b = pd.concat([b,pd.DataFrame(a[a['label'] == 0]['mean_arpu']).describe()],axis=1)\n",
    "\n",
    "a = train_user[train_user.notnull().T.all()].reset_index(drop=True)\n",
    "b = pd.concat([b,pd.DataFrame(a[a['label'] == 1]['mean_arpu']).describe()],axis=1)\n",
    "b = pd.concat([b,pd.DataFrame(a[a['label'] == 0]['mean_arpu']).describe()],axis=1)\n",
    "b = b.T\n",
    "b['is_nan'] = ['NAN','NAN','NOT NAN','NOT NAN']\n",
    "b['is_normal'] = ['fraud','normal','fraud','normal']"
   ]
  },
  {
   "cell_type": "code",
   "execution_count": 261,
   "metadata": {},
   "outputs": [
    {
     "data": {
      "text/html": [
       "<div>\n",
       "<style scoped>\n",
       "    .dataframe tbody tr th:only-of-type {\n",
       "        vertical-align: middle;\n",
       "    }\n",
       "\n",
       "    .dataframe tbody tr th {\n",
       "        vertical-align: top;\n",
       "    }\n",
       "\n",
       "    .dataframe thead th {\n",
       "        text-align: right;\n",
       "    }\n",
       "</style>\n",
       "<table border=\"1\" class=\"dataframe\">\n",
       "  <thead>\n",
       "    <tr style=\"text-align: right;\">\n",
       "      <th></th>\n",
       "      <th>count</th>\n",
       "      <th>mean</th>\n",
       "      <th>std</th>\n",
       "      <th>min</th>\n",
       "      <th>25%</th>\n",
       "      <th>50%</th>\n",
       "      <th>75%</th>\n",
       "      <th>max</th>\n",
       "      <th>is_nan</th>\n",
       "      <th>is_normal</th>\n",
       "    </tr>\n",
       "  </thead>\n",
       "  <tbody>\n",
       "    <tr>\n",
       "      <td>mean_arpu</td>\n",
       "      <td>1429.0</td>\n",
       "      <td>97.395560</td>\n",
       "      <td>146.361035</td>\n",
       "      <td>1.0</td>\n",
       "      <td>30.729167</td>\n",
       "      <td>56.937500</td>\n",
       "      <td>100.000000</td>\n",
       "      <td>2406.534375</td>\n",
       "      <td>NAN</td>\n",
       "      <td>fraud</td>\n",
       "    </tr>\n",
       "    <tr>\n",
       "      <td>mean_arpu</td>\n",
       "      <td>429.0</td>\n",
       "      <td>29.498557</td>\n",
       "      <td>31.393902</td>\n",
       "      <td>1.0</td>\n",
       "      <td>8.859375</td>\n",
       "      <td>18.960938</td>\n",
       "      <td>39.732813</td>\n",
       "      <td>199.087891</td>\n",
       "      <td>NAN</td>\n",
       "      <td>normal</td>\n",
       "    </tr>\n",
       "    <tr>\n",
       "      <td>mean_arpu</td>\n",
       "      <td>533.0</td>\n",
       "      <td>84.079642</td>\n",
       "      <td>70.694870</td>\n",
       "      <td>1.0</td>\n",
       "      <td>27.596680</td>\n",
       "      <td>70.062500</td>\n",
       "      <td>112.976562</td>\n",
       "      <td>385.500000</td>\n",
       "      <td>NOT NAN</td>\n",
       "      <td>fraud</td>\n",
       "    </tr>\n",
       "    <tr>\n",
       "      <td>mean_arpu</td>\n",
       "      <td>3715.0</td>\n",
       "      <td>57.992413</td>\n",
       "      <td>57.864371</td>\n",
       "      <td>1.0</td>\n",
       "      <td>15.755859</td>\n",
       "      <td>40.031250</td>\n",
       "      <td>81.753906</td>\n",
       "      <td>544.375000</td>\n",
       "      <td>NOT NAN</td>\n",
       "      <td>normal</td>\n",
       "    </tr>\n",
       "  </tbody>\n",
       "</table>\n",
       "</div>"
      ],
      "text/plain": [
       "            count       mean         std  min        25%        50%  \\\n",
       "mean_arpu  1429.0  97.395560  146.361035  1.0  30.729167  56.937500   \n",
       "mean_arpu   429.0  29.498557   31.393902  1.0   8.859375  18.960938   \n",
       "mean_arpu   533.0  84.079642   70.694870  1.0  27.596680  70.062500   \n",
       "mean_arpu  3715.0  57.992413   57.864371  1.0  15.755859  40.031250   \n",
       "\n",
       "                  75%          max   is_nan is_normal  \n",
       "mean_arpu  100.000000  2406.534375      NAN     fraud  \n",
       "mean_arpu   39.732813   199.087891      NAN    normal  \n",
       "mean_arpu  112.976562   385.500000  NOT NAN     fraud  \n",
       "mean_arpu   81.753906   544.375000  NOT NAN    normal  "
      ]
     },
     "execution_count": 261,
     "metadata": {},
     "output_type": "execute_result"
    }
   ],
   "source": [
    "b"
   ]
  },
  {
   "cell_type": "code",
   "execution_count": 260,
   "metadata": {},
   "outputs": [
    {
     "data": {
      "image/png": "[encoded data removed]",
      "text/plain": [
       "<Figure size 720x1800 with 5 Axes>"
      ]
     },
     "metadata": {
      "needs_background": "light"
     },
     "output_type": "display_data"
    }
   ],
   "source": [
    "# 观察 NAN 和 非NAN 情况下平均话费\n",
    "fig,ax = plt.subplots(5,1,figsize=(10,25))\n",
    "sns.barplot(x=b['is_nan'],y=b['mean'],hue=b['is_normal'],ax=ax[0])\n",
    "sns.barplot(x=b['is_nan'],y=b['25%'],hue=b['is_normal'],ax=ax[1])\n",
    "sns.barplot(x=b['is_nan'],y=b['50%'],hue=b['is_normal'],ax=ax[2])\n",
    "sns.barplot(x=b['is_nan'],y=b['75%'],hue=b['is_normal'],ax=ax[3])\n",
    "sns.barplot(x=b['is_nan'],y=b['max'],hue=b['is_normal'],ax=ax[4])\n",
    "plt.show()"
   ]
  },
  {
   "cell_type": "raw",
   "metadata": {},
   "source": [
    "3. 话费全为Nan的情况下，全为诈骗电话"
   ]
  },
  {
   "cell_type": "code",
   "execution_count": 178,
   "metadata": {},
   "outputs": [
    {
     "data": {
      "text/html": [
       "<div>\n",
       "<style scoped>\n",
       "    .dataframe tbody tr th:only-of-type {\n",
       "        vertical-align: middle;\n",
       "    }\n",
       "\n",
       "    .dataframe tbody tr th {\n",
       "        vertical-align: top;\n",
       "    }\n",
       "\n",
       "    .dataframe thead th {\n",
       "        text-align: right;\n",
       "    }\n",
       "</style>\n",
       "<table border=\"1\" class=\"dataframe\">\n",
       "  <thead>\n",
       "    <tr style=\"text-align: right;\">\n",
       "      <th></th>\n",
       "      <th>phone_no_m</th>\n",
       "      <th>city_name</th>\n",
       "      <th>county_name</th>\n",
       "      <th>idcard_cnt</th>\n",
       "      <th>arpu_201908</th>\n",
       "      <th>arpu_201909</th>\n",
       "      <th>arpu_201910</th>\n",
       "      <th>arpu_201911</th>\n",
       "      <th>arpu_201912</th>\n",
       "      <th>arpu_202001</th>\n",
       "      <th>arpu_202002</th>\n",
       "      <th>arpu_202003</th>\n",
       "      <th>label</th>\n",
       "      <th>is_arrears</th>\n",
       "      <th>mean_arpu</th>\n",
       "    </tr>\n",
       "  </thead>\n",
       "  <tbody>\n",
       "    <tr>\n",
       "      <td>75</td>\n",
       "      <td>6b4999280b1f69a44e4e4b4d624e7d2055a1a407b449eb...</td>\n",
       "      <td>未知</td>\n",
       "      <td>未知</td>\n",
       "      <td>1</td>\n",
       "      <td>NaN</td>\n",
       "      <td>NaN</td>\n",
       "      <td>NaN</td>\n",
       "      <td>NaN</td>\n",
       "      <td>NaN</td>\n",
       "      <td>NaN</td>\n",
       "      <td>NaN</td>\n",
       "      <td>NaN</td>\n",
       "      <td>1</td>\n",
       "      <td>0</td>\n",
       "      <td>NaN</td>\n",
       "    </tr>\n",
       "    <tr>\n",
       "      <td>104</td>\n",
       "      <td>e56bde9f85fe201fe546cd83b43be86f89f562f271aaec...</td>\n",
       "      <td>未知</td>\n",
       "      <td>未知</td>\n",
       "      <td>2</td>\n",
       "      <td>NaN</td>\n",
       "      <td>NaN</td>\n",
       "      <td>NaN</td>\n",
       "      <td>NaN</td>\n",
       "      <td>NaN</td>\n",
       "      <td>NaN</td>\n",
       "      <td>NaN</td>\n",
       "      <td>NaN</td>\n",
       "      <td>1</td>\n",
       "      <td>0</td>\n",
       "      <td>NaN</td>\n",
       "    </tr>\n",
       "    <tr>\n",
       "      <td>130</td>\n",
       "      <td>35e64a4d264a1ddee0d45079ee90fad25dc8de93430696...</td>\n",
       "      <td>未知</td>\n",
       "      <td>未知</td>\n",
       "      <td>4</td>\n",
       "      <td>NaN</td>\n",
       "      <td>NaN</td>\n",
       "      <td>NaN</td>\n",
       "      <td>NaN</td>\n",
       "      <td>NaN</td>\n",
       "      <td>NaN</td>\n",
       "      <td>NaN</td>\n",
       "      <td>NaN</td>\n",
       "      <td>1</td>\n",
       "      <td>0</td>\n",
       "      <td>NaN</td>\n",
       "    </tr>\n",
       "    <tr>\n",
       "      <td>157</td>\n",
       "      <td>863b82930414fce2972e159bb82f213a580d0e08523654...</td>\n",
       "      <td>未知</td>\n",
       "      <td>未知</td>\n",
       "      <td>6</td>\n",
       "      <td>NaN</td>\n",
       "      <td>NaN</td>\n",
       "      <td>NaN</td>\n",
       "      <td>NaN</td>\n",
       "      <td>NaN</td>\n",
       "      <td>NaN</td>\n",
       "      <td>NaN</td>\n",
       "      <td>NaN</td>\n",
       "      <td>1</td>\n",
       "      <td>0</td>\n",
       "      <td>NaN</td>\n",
       "    </tr>\n",
       "    <tr>\n",
       "      <td>176</td>\n",
       "      <td>e6e7afe093476b008424cc6d7455c2f64f8619be09e4de...</td>\n",
       "      <td>未知</td>\n",
       "      <td>未知</td>\n",
       "      <td>1</td>\n",
       "      <td>NaN</td>\n",
       "      <td>NaN</td>\n",
       "      <td>NaN</td>\n",
       "      <td>NaN</td>\n",
       "      <td>NaN</td>\n",
       "      <td>NaN</td>\n",
       "      <td>NaN</td>\n",
       "      <td>NaN</td>\n",
       "      <td>1</td>\n",
       "      <td>0</td>\n",
       "      <td>NaN</td>\n",
       "    </tr>\n",
       "    <tr>\n",
       "      <td>...</td>\n",
       "      <td>...</td>\n",
       "      <td>...</td>\n",
       "      <td>...</td>\n",
       "      <td>...</td>\n",
       "      <td>...</td>\n",
       "      <td>...</td>\n",
       "      <td>...</td>\n",
       "      <td>...</td>\n",
       "      <td>...</td>\n",
       "      <td>...</td>\n",
       "      <td>...</td>\n",
       "      <td>...</td>\n",
       "      <td>...</td>\n",
       "      <td>...</td>\n",
       "      <td>...</td>\n",
       "    </tr>\n",
       "    <tr>\n",
       "      <td>5995</td>\n",
       "      <td>53e25caa6bb68099bfcb559ec9a6c093992ba4ad9cf922...</td>\n",
       "      <td>未知</td>\n",
       "      <td>未知</td>\n",
       "      <td>0</td>\n",
       "      <td>NaN</td>\n",
       "      <td>NaN</td>\n",
       "      <td>NaN</td>\n",
       "      <td>NaN</td>\n",
       "      <td>NaN</td>\n",
       "      <td>NaN</td>\n",
       "      <td>NaN</td>\n",
       "      <td>NaN</td>\n",
       "      <td>1</td>\n",
       "      <td>0</td>\n",
       "      <td>NaN</td>\n",
       "    </tr>\n",
       "    <tr>\n",
       "      <td>6028</td>\n",
       "      <td>479e60294b0ddbefd5ef6f8aa6ffc1175200827b93fe7c...</td>\n",
       "      <td>未知</td>\n",
       "      <td>未知</td>\n",
       "      <td>1</td>\n",
       "      <td>NaN</td>\n",
       "      <td>NaN</td>\n",
       "      <td>NaN</td>\n",
       "      <td>NaN</td>\n",
       "      <td>NaN</td>\n",
       "      <td>NaN</td>\n",
       "      <td>NaN</td>\n",
       "      <td>NaN</td>\n",
       "      <td>1</td>\n",
       "      <td>0</td>\n",
       "      <td>NaN</td>\n",
       "    </tr>\n",
       "    <tr>\n",
       "      <td>6076</td>\n",
       "      <td>b3b3d66fbf8d3883614cbeacbb7c3393e99295b4319a8a...</td>\n",
       "      <td>未知</td>\n",
       "      <td>未知</td>\n",
       "      <td>5</td>\n",
       "      <td>NaN</td>\n",
       "      <td>NaN</td>\n",
       "      <td>NaN</td>\n",
       "      <td>NaN</td>\n",
       "      <td>NaN</td>\n",
       "      <td>NaN</td>\n",
       "      <td>NaN</td>\n",
       "      <td>NaN</td>\n",
       "      <td>1</td>\n",
       "      <td>0</td>\n",
       "      <td>NaN</td>\n",
       "    </tr>\n",
       "    <tr>\n",
       "      <td>6094</td>\n",
       "      <td>068eebee8aa3ecabc6a30622bf14141d398eda8c236a31...</td>\n",
       "      <td>未知</td>\n",
       "      <td>未知</td>\n",
       "      <td>1</td>\n",
       "      <td>NaN</td>\n",
       "      <td>NaN</td>\n",
       "      <td>NaN</td>\n",
       "      <td>NaN</td>\n",
       "      <td>NaN</td>\n",
       "      <td>NaN</td>\n",
       "      <td>NaN</td>\n",
       "      <td>NaN</td>\n",
       "      <td>1</td>\n",
       "      <td>0</td>\n",
       "      <td>NaN</td>\n",
       "    </tr>\n",
       "    <tr>\n",
       "      <td>6095</td>\n",
       "      <td>44e1accc84480624929e881d4c2a128e2b2d42b6c5c5c4...</td>\n",
       "      <td>未知</td>\n",
       "      <td>未知</td>\n",
       "      <td>1</td>\n",
       "      <td>NaN</td>\n",
       "      <td>NaN</td>\n",
       "      <td>NaN</td>\n",
       "      <td>NaN</td>\n",
       "      <td>NaN</td>\n",
       "      <td>NaN</td>\n",
       "      <td>NaN</td>\n",
       "      <td>NaN</td>\n",
       "      <td>1</td>\n",
       "      <td>0</td>\n",
       "      <td>NaN</td>\n",
       "    </tr>\n",
       "  </tbody>\n",
       "</table>\n",
       "<p>174 rows × 15 columns</p>\n",
       "</div>"
      ],
      "text/plain": [
       "                                             phone_no_m city_name county_name  \\\n",
       "75    6b4999280b1f69a44e4e4b4d624e7d2055a1a407b449eb...        未知          未知   \n",
       "104   e56bde9f85fe201fe546cd83b43be86f89f562f271aaec...        未知          未知   \n",
       "130   35e64a4d264a1ddee0d45079ee90fad25dc8de93430696...        未知          未知   \n",
       "157   863b82930414fce2972e159bb82f213a580d0e08523654...        未知          未知   \n",
       "176   e6e7afe093476b008424cc6d7455c2f64f8619be09e4de...        未知          未知   \n",
       "...                                                 ...       ...         ...   \n",
       "5995  53e25caa6bb68099bfcb559ec9a6c093992ba4ad9cf922...        未知          未知   \n",
       "6028  479e60294b0ddbefd5ef6f8aa6ffc1175200827b93fe7c...        未知          未知   \n",
       "6076  b3b3d66fbf8d3883614cbeacbb7c3393e99295b4319a8a...        未知          未知   \n",
       "6094  068eebee8aa3ecabc6a30622bf14141d398eda8c236a31...        未知          未知   \n",
       "6095  44e1accc84480624929e881d4c2a128e2b2d42b6c5c5c4...        未知          未知   \n",
       "\n",
       "      idcard_cnt  arpu_201908  arpu_201909  arpu_201910  arpu_201911  \\\n",
       "75             1          NaN          NaN          NaN          NaN   \n",
       "104            2          NaN          NaN          NaN          NaN   \n",
       "130            4          NaN          NaN          NaN          NaN   \n",
       "157            6          NaN          NaN          NaN          NaN   \n",
       "176            1          NaN          NaN          NaN          NaN   \n",
       "...          ...          ...          ...          ...          ...   \n",
       "5995           0          NaN          NaN          NaN          NaN   \n",
       "6028           1          NaN          NaN          NaN          NaN   \n",
       "6076           5          NaN          NaN          NaN          NaN   \n",
       "6094           1          NaN          NaN          NaN          NaN   \n",
       "6095           1          NaN          NaN          NaN          NaN   \n",
       "\n",
       "      arpu_201912  arpu_202001  arpu_202002  arpu_202003  label  is_arrears  \\\n",
       "75            NaN          NaN          NaN          NaN      1           0   \n",
       "104           NaN          NaN          NaN          NaN      1           0   \n",
       "130           NaN          NaN          NaN          NaN      1           0   \n",
       "157           NaN          NaN          NaN          NaN      1           0   \n",
       "176           NaN          NaN          NaN          NaN      1           0   \n",
       "...           ...          ...          ...          ...    ...         ...   \n",
       "5995          NaN          NaN          NaN          NaN      1           0   \n",
       "6028          NaN          NaN          NaN          NaN      1           0   \n",
       "6076          NaN          NaN          NaN          NaN      1           0   \n",
       "6094          NaN          NaN          NaN          NaN      1           0   \n",
       "6095          NaN          NaN          NaN          NaN      1           0   \n",
       "\n",
       "      mean_arpu  \n",
       "75          NaN  \n",
       "104         NaN  \n",
       "130         NaN  \n",
       "157         NaN  \n",
       "176         NaN  \n",
       "...         ...  \n",
       "5995        NaN  \n",
       "6028        NaN  \n",
       "6076        NaN  \n",
       "6094        NaN  \n",
       "6095        NaN  \n",
       "\n",
       "[174 rows x 15 columns]"
      ]
     },
     "execution_count": 178,
     "metadata": {},
     "output_type": "execute_result"
    }
   ],
   "source": [
    "# 观察train_user中mean_arpu平均话费缺失值情况，在test_user中是arpu_202004\n",
    "# 这里的city_name 和county_name 是人为补充未知上去的\n",
    "train_user[train_user['mean_arpu'].isnull()]"
   ]
  },
  {
   "cell_type": "code",
   "execution_count": 227,
   "metadata": {},
   "outputs": [],
   "source": [
    "train_user['is_null'] = train_user.isnull().T.any().apply(lambda x:1 if x else 0)\n",
    "train_user['is_all_null'] = train_user['mean_arpu'].isnull().apply(lambda x:1 if x else 0 )\n",
    "train_user['mean_arpu'].fillna(100,inplace=True) # 因为label一定是等于1的，而诈骗电话的平均话费90多，那么就用100来代替"
   ]
  },
  {
   "cell_type": "code",
   "execution_count": 224,
   "metadata": {},
   "outputs": [],
   "source": [
    "test_user['is_null'] = test_user.isnull().T.any().apply(lambda x:1 if x else 0)\n",
    "test_user['is_all_null'] = test_user.isnull().T.any().apply(lambda x:1 if x else 0)\n",
    "test_user['mean_arpu'].fillna(100,inplace=True)"
   ]
  },
  {
   "cell_type": "raw",
   "metadata": {},
   "source": [
    "观察每个人身份证下的号码数目"
   ]
  },
  {
   "cell_type": "code",
   "execution_count": 232,
   "metadata": {},
   "outputs": [
    {
     "data": {
      "text/plain": [
       "1     2785\n",
       "2     1485\n",
       "3      809\n",
       "4      495\n",
       "5      466\n",
       "0       46\n",
       "6       12\n",
       "13       4\n",
       "10       2\n",
       "7        1\n",
       "8        1\n",
       "Name: idcard_cnt, dtype: int64"
      ]
     },
     "execution_count": 232,
     "metadata": {},
     "output_type": "execute_result"
    }
   ],
   "source": [
    "# 发现有的身份证旗下没有电话号码，是异常值\n",
    "train_user.idcard_cnt.value_counts()"
   ]
  },
  {
   "cell_type": "code",
   "execution_count": 262,
   "metadata": {},
   "outputs": [
    {
     "data": {
      "text/plain": [
       "1    41\n",
       "0     5\n",
       "Name: label, dtype: int64"
      ]
     },
     "execution_count": 262,
     "metadata": {},
     "output_type": "execute_result"
    }
   ],
   "source": [
    "#号码数目为0的，更容易是诈骗电话\n",
    "train_user[train_user['idcard_cnt'] == 0].label.value_counts()"
   ]
  },
  {
   "cell_type": "code",
   "execution_count": 230,
   "metadata": {},
   "outputs": [
    {
     "data": {
      "text/html": [
       "<div>\n",
       "<style scoped>\n",
       "    .dataframe tbody tr th:only-of-type {\n",
       "        vertical-align: middle;\n",
       "    }\n",
       "\n",
       "    .dataframe tbody tr th {\n",
       "        vertical-align: top;\n",
       "    }\n",
       "\n",
       "    .dataframe thead th {\n",
       "        text-align: right;\n",
       "    }\n",
       "</style>\n",
       "<table border=\"1\" class=\"dataframe\">\n",
       "  <thead>\n",
       "    <tr style=\"text-align: right;\">\n",
       "      <th></th>\n",
       "      <th>idcard_cnt</th>\n",
       "      <th>arpu_201908</th>\n",
       "      <th>arpu_201909</th>\n",
       "      <th>arpu_201910</th>\n",
       "      <th>arpu_201911</th>\n",
       "      <th>arpu_201912</th>\n",
       "      <th>arpu_202001</th>\n",
       "      <th>arpu_202002</th>\n",
       "      <th>arpu_202003</th>\n",
       "      <th>is_arrears</th>\n",
       "      <th>mean_arpu</th>\n",
       "      <th>is_null</th>\n",
       "      <th>is_all_null</th>\n",
       "    </tr>\n",
       "    <tr>\n",
       "      <th>label</th>\n",
       "      <th></th>\n",
       "      <th></th>\n",
       "      <th></th>\n",
       "      <th></th>\n",
       "      <th></th>\n",
       "      <th></th>\n",
       "      <th></th>\n",
       "      <th></th>\n",
       "      <th></th>\n",
       "      <th></th>\n",
       "      <th></th>\n",
       "      <th></th>\n",
       "      <th></th>\n",
       "    </tr>\n",
       "  </thead>\n",
       "  <tbody>\n",
       "    <tr>\n",
       "      <td>0</td>\n",
       "      <td>1.705598</td>\n",
       "      <td>58.325675</td>\n",
       "      <td>57.245984</td>\n",
       "      <td>57.628403</td>\n",
       "      <td>57.004657</td>\n",
       "      <td>57.486461</td>\n",
       "      <td>56.248134</td>\n",
       "      <td>54.083694</td>\n",
       "      <td>55.060553</td>\n",
       "      <td>0.001689</td>\n",
       "      <td>55.042639</td>\n",
       "      <td>0.103523</td>\n",
       "      <td>0.000000</td>\n",
       "    </tr>\n",
       "    <tr>\n",
       "      <td>1</td>\n",
       "      <td>2.845566</td>\n",
       "      <td>73.007561</td>\n",
       "      <td>67.100589</td>\n",
       "      <td>68.955397</td>\n",
       "      <td>88.129738</td>\n",
       "      <td>110.998171</td>\n",
       "      <td>71.049650</td>\n",
       "      <td>75.010793</td>\n",
       "      <td>95.530140</td>\n",
       "      <td>0.000000</td>\n",
       "      <td>93.778137</td>\n",
       "      <td>0.728338</td>\n",
       "      <td>0.088685</td>\n",
       "    </tr>\n",
       "  </tbody>\n",
       "</table>\n",
       "</div>"
      ],
      "text/plain": [
       "       idcard_cnt  arpu_201908  arpu_201909  arpu_201910  arpu_201911  \\\n",
       "label                                                                   \n",
       "0        1.705598    58.325675    57.245984    57.628403    57.004657   \n",
       "1        2.845566    73.007561    67.100589    68.955397    88.129738   \n",
       "\n",
       "       arpu_201912  arpu_202001  arpu_202002  arpu_202003  is_arrears  \\\n",
       "label                                                                   \n",
       "0        57.486461    56.248134    54.083694    55.060553    0.001689   \n",
       "1       110.998171    71.049650    75.010793    95.530140    0.000000   \n",
       "\n",
       "       mean_arpu   is_null  is_all_null  \n",
       "label                                    \n",
       "0      55.042639  0.103523     0.000000  \n",
       "1      93.778137  0.728338     0.088685  "
      ]
     },
     "execution_count": 230,
     "metadata": {},
     "output_type": "execute_result"
    }
   ],
   "source": [
    "# 观察身份证\n",
    "train_user.groupby('label').mean()"
   ]
  },
  {
   "cell_type": "code",
   "execution_count": 263,
   "metadata": {},
   "outputs": [
    {
     "data": {
      "image/png": "[encoded data removed]",
      "text/plain": [
       "<Figure size 576x576 with 1 Axes>"
      ]
     },
     "metadata": {
      "needs_background": "light"
     },
     "output_type": "display_data"
    }
   ],
   "source": [
    "fig,ax=plt.subplots(1,1,figsize=(8,8))\n",
    "sns.boxplot(x=train_user['label'],y=train_user['idcard_cnt'],ax=ax)\n",
    "plt.show()"
   ]
  },
  {
   "cell_type": "code",
   "execution_count": 269,
   "metadata": {},
   "outputs": [],
   "source": [
    "train_user.to_pickle('after_EDA/train_user.pkl')\n",
    "test_user.to_pickle('after_EDA/test_user.pkl')"
   ]
  },
  {
   "cell_type": "code",
   "execution_count": null,
   "metadata": {},
   "outputs": [],
   "source": [
    "可能需要用到聚类分析，留着"
   ]
  },
  {
   "cell_type": "code",
   "execution_count": 115,
   "metadata": {},
   "outputs": [
    {
     "data": {
      "text/plain": [
       "phone_no_m     6106\n",
       "city_name      6106\n",
       "county_name    6106\n",
       "idcard_cnt     6106\n",
       "arpu_201908    4315\n",
       "arpu_201909    4465\n",
       "arpu_201910    4670\n",
       "arpu_201911    5080\n",
       "arpu_201912    5252\n",
       "arpu_202001    5149\n",
       "arpu_202002    5161\n",
       "arpu_202003    5369\n",
       "label          6106\n",
       "is_arrears     6106\n",
       "dtype: int64"
      ]
     },
     "execution_count": 115,
     "metadata": {},
     "output_type": "execute_result"
    }
   ],
   "source": [
    "del a,b\n",
    "gc.collect()"
   ]
  },
  {
   "cell_type": "code",
   "execution_count": null,
   "metadata": {},
   "outputs": [],
   "source": []
  },
  {
   "cell_type": "code",
   "execution_count": 9,
   "metadata": {},
   "outputs": [
    {
     "data": {
      "text/plain": [
       "phone_no_m       0\n",
       "city_name        0\n",
       "county_name      0\n",
       "idcard_cnt       0\n",
       "arpu_202004    176\n",
       "dtype: int64"
      ]
     },
     "execution_count": 9,
     "metadata": {},
     "output_type": "execute_result"
    }
   ],
   "source": [
    "test_user.isnull().sum()"
   ]
  }
 ],
 "metadata": {
  "kernelspec": {
   "display_name": "Python 3",
   "language": "python",
   "name": "python3"
  },
  "language_info": {
   "codemirror_mode": {
    "name": "ipython",
    "version": 3
   },
   "file_extension": ".py",
   "mimetype": "text/x-python",
   "name": "python",
   "nbconvert_exporter": "python",
   "pygments_lexer": "ipython3",
   "version": "3.7.2"
  }
 },
 "nbformat": 4,
 "nbformat_minor": 2
}
